{
 "cells": [
  {
   "cell_type": "markdown",
   "id": "e586a889-26af-4ee8-8b9e-cec4a371700e",
   "metadata": {},
   "source": [
    "The wine quality dataset typically includes features such as:\n",
    "\n",
    "1. Fixed acidity: The level of non-volatile acids in the wine, which can affect its taste and stability.\n",
    "2. Volatile acidity: The level of volatile acids in the wine, which contribute to its aroma and can indicate spoilage if too high.\n",
    "3. Citric acid: Naturally occurring acid in wine that can add freshness and flavor.\n",
    "4. Residual sugar: The amount of sugar left in the wine after fermentation, which influences its sweetness level.\n",
    "5. Chlorides: The concentration of salts in the wine, which can affect its taste and mouthfeel.\n",
    "6. Free sulfur dioxide: A preservative in wine that prevents microbial growth and oxidation.\n",
    "7. Total sulfur dioxide: The total amount of sulfur dioxide present, which is also a preservative and antioxidant.\n",
    "8. Density: The mass per unit volume of the wine, which can indicate its alcohol content and body.\n",
    "9. pH: The acidity or alkalinity level of the wine, which affects its taste, stability, and microbial growth.\n",
    "10. Sulphates: Compounds added to wine as a preservative and to enhance flavor.\n",
    "11. Alcohol: The percentage of alcohol by volume, which influences the wine's body and perceived warmth.\n",
    "\n",
    "Each of these features plays a role in determining the overall quality of wine. For instance, acidity levels can impact the wine's balance and freshness, while alcohol content contributes to its body and structure. Sulfur dioxide levels affect the wine's stability and shelf life, while residual sugar and chlorides influence its sweetness and taste profile. pH levels can affect the wine's microbial stability and sensory characteristics. By analyzing these features collectively, predictive models can assess and predict the quality of wine."
   ]
  },
  {
   "cell_type": "markdown",
   "id": "deffd5a6-2b67-46bc-8e2f-e3d85e6b4419",
   "metadata": {},
   "source": [
    "Handling missing data in the wine quality dataset during the feature engineering process can be crucial for building accurate predictive models. Several imputation techniques can be used, each with its own advantages and disadvantages:\n",
    "\n",
    "1. Mean/Median imputation:\n",
    "   - Advantages: Simple to implement, does not require complex calculations, and can preserve the overall distribution of the data.\n",
    "   - Disadvantages: May distort relationships between variables, especially if missing data are not missing completely at random (MCAR). It can also underestimate variability if missingness is substantial.\n",
    "\n",
    "2. Mode imputation:\n",
    "   - Advantages: Suitable for categorical variables, easy to implement, and can be effective for preserving the mode of the distribution.\n",
    "   - Disadvantages: Similar to mean/median imputation, it can distort relationships and underestimate variability.\n",
    "\n",
    "3. Forward fill/backward fill:\n",
    "   - Advantages: Preserves temporal order if applicable, simple to implement, and can work well for time series data.\n",
    "   - Disadvantages: May not be suitable for non-sequential data, can introduce bias if there are patterns in missingness, and may not be appropriate for variables with high variability.\n",
    "\n",
    "4. Regression imputation:\n",
    "   - Advantages: Takes into account relationships between variables, can provide more accurate imputations compared to simple imputation methods.\n",
    "   - Disadvantages: Requires more computational resources, assumes linear relationships between variables, and can be sensitive to outliers and multicollinearity.\n",
    "\n",
    "5. K-nearest neighbors (KNN) imputation:\n",
    "   - Advantages: Utilizes information from similar data points, can handle non-linear relationships, and can be effective for both numerical and categorical variables.\n",
    "   - Disadvantages: Computationally intensive, sensitive to the choice of k (number of neighbors), and may not perform well with high-dimensional data.\n",
    "\n",
    "6. Multiple imputation:\n",
    "   - Advantages: Provides uncertainty estimates by generating multiple imputed datasets, can handle missingness more effectively than single imputation methods, and can improve model performance.\n",
    "   - Disadvantages: Requires multiple imputation iterations, may be computationally intensive, and can be complex to implement.\n",
    "\n",
    "The choice of imputation technique depends on various factors such as the nature of the data, the extent of missingness, the presence of relationships between variables, and computational resources available. It's often recommended to evaluate multiple imputation methods and compare their performance using cross-validation or other validation techniques before selecting the most appropriate one for the dataset at hand."
   ]
  },
  {
   "cell_type": "markdown",
   "id": "c01656a4-8be0-488c-8ae0-170d45b1b0cb",
   "metadata": {},
   "source": [
    "Several key factors can influence students' performance in exams:\n",
    "\n",
    "1. Study habits: The amount of time spent studying, study techniques used, and consistency in studying can impact exam performance.\n",
    "2. Prior knowledge: Students' understanding of the subject matter before the exam can significantly affect their performance.\n",
    "3. Motivation: Intrinsic and extrinsic motivation levels can influence students' engagement with the material and effort put into preparation.\n",
    "4. Learning environment: Factors such as classroom atmosphere, teaching quality, and access to resources can affect students' ability to learn and perform well in exams.\n",
    "5. Stress and anxiety: Levels of stress and anxiety leading up to exams can impact cognitive function and performance.\n",
    "6. Health and well-being: Physical and mental health issues can affect students' ability to concentrate, retain information, and perform well in exams.\n",
    "7. Socio-economic background: Factors such as parental education level, family income, and access to educational resources can influence students' performance.\n",
    "\n",
    "To analyze these factors using statistical techniques, one could:\n",
    "\n",
    "1. Conduct a regression analysis to identify the relationship between study habits, prior knowledge, motivation, and exam performance. This could involve creating a regression model with exam scores as the dependent variable and study habits, prior knowledge, and motivation as independent variables.\n",
    "2. Perform a correlation analysis to examine the relationships between various factors and exam performance. This could help identify which factors are most strongly associated with performance.\n",
    "3. Use ANOVA or t-tests to compare the exam performance of students from different learning environments, socio-economic backgrounds, or stress levels.\n",
    "4. Conduct factor analysis to identify underlying factors that contribute to overall exam performance. This could help uncover patterns and relationships among different variables.\n",
    "5. Utilize structural equation modeling (SEM) to explore complex relationships between multiple factors and exam performance simultaneously. SEM allows for the examination of direct and indirect effects of various factors on exam performance.\n",
    "\n",
    "By employing these statistical techniques, researchers can gain valuable insights into the factors that influence students' exam performance and develop strategies to support student success."
   ]
  },
  {
   "cell_type": "markdown",
   "id": "40e2e477-373b-4dde-bb04-b02f17a13c94",
   "metadata": {},
   "source": [
    "Feature engineering involves selecting, transforming, and creating new features from the existing variables in a dataset to improve the performance of a predictive model. In the context of the student performance dataset, the process of feature engineering might include the following steps:\n",
    "\n",
    "1. Feature Selection:\n",
    "   - Identify relevant variables that are likely to influence student performance based on domain knowledge and previous research. This could include variables such as study time, parental education level, school attendance, and socioeconomic status.\n",
    "   - Assess the importance of each variable using techniques such as correlation analysis, feature importance ranking from machine learning models, or domain expertise.\n",
    "\n",
    "2. Handling Categorical Variables:\n",
    "   - Convert categorical variables into numerical representations using techniques such as one-hot encoding or label encoding. For example, converting categorical variables like \"gender\" or \"school type\" into binary variables.\n",
    "   - Consider the impact of ordinality in categorical variables and encode them accordingly if necessary.\n",
    "\n",
    "3. Dealing with Missing Values:\n",
    "   - Assess the presence of missing values in the dataset and decide on an appropriate strategy for handling them, such as imputation or removal of rows/columns with missing values.\n",
    "   - Choose an imputation technique based on the nature and distribution of missing values, as discussed earlier.\n",
    "\n",
    "4. Feature Transformation:\n",
    "   - Normalize or standardize numerical features to ensure they have similar scales, which can help improve the performance of some machine learning algorithms.\n",
    "   - Transform skewed distributions using techniques such as logarithmic or power transformations to make the data more symmetrical and improve model performance.\n",
    "   - Create new features by combining or transforming existing features. For example, calculating a \"total study time\" variable by summing up the individual study time for different subjects.\n",
    "\n",
    "5. Feature Scaling:\n",
    "   - Scale numerical features to a similar range to prevent features with larger scales from dominating the model.\n",
    "   - Techniques such as Min-Max scaling or standardization (Z-score normalization) can be used for feature scaling.\n",
    "\n",
    "6. Feature Extraction:\n",
    "   - Extract relevant information from existing features to create new informative features. This could involve techniques such as principal component analysis (PCA) or t-SNE for dimensionality reduction and feature extraction.\n",
    "\n",
    "By carefully selecting, transforming, and creating new features, feature engineering aims to enhance the predictive power of machine learning models trained on the student performance dataset, ultimately improving their ability to accurately predict student outcomes."
   ]
  },
  {
   "cell_type": "code",
   "execution_count": 3,
   "id": "5cab31de-859f-490a-8e3d-389a94d2a570",
   "metadata": {},
   "outputs": [
    {
     "ename": "FileNotFoundError",
     "evalue": "[Errno 2] No such file or directory: 'wine_quality_dataset.csv'",
     "output_type": "error",
     "traceback": [
      "\u001b[0;31m---------------------------------------------------------------------------\u001b[0m",
      "\u001b[0;31mFileNotFoundError\u001b[0m                         Traceback (most recent call last)",
      "Cell \u001b[0;32mIn[3], line 7\u001b[0m\n\u001b[1;32m      4\u001b[0m \u001b[38;5;28;01mimport\u001b[39;00m \u001b[38;5;21;01mmatplotlib\u001b[39;00m\u001b[38;5;21;01m.\u001b[39;00m\u001b[38;5;21;01mpyplot\u001b[39;00m \u001b[38;5;28;01mas\u001b[39;00m \u001b[38;5;21;01mplt\u001b[39;00m\n\u001b[1;32m      6\u001b[0m \u001b[38;5;66;03m# Load the wine quality dataset\u001b[39;00m\n\u001b[0;32m----> 7\u001b[0m wine_df \u001b[38;5;241m=\u001b[39m \u001b[43mpd\u001b[49m\u001b[38;5;241;43m.\u001b[39;49m\u001b[43mread_csv\u001b[49m\u001b[43m(\u001b[49m\u001b[38;5;124;43m'\u001b[39;49m\u001b[38;5;124;43mwine_quality_dataset.csv\u001b[39;49m\u001b[38;5;124;43m'\u001b[39;49m\u001b[43m)\u001b[49m\n\u001b[1;32m      9\u001b[0m \u001b[38;5;66;03m# Display the first few rows of the dataset\u001b[39;00m\n\u001b[1;32m     10\u001b[0m \u001b[38;5;28mprint\u001b[39m(wine_df\u001b[38;5;241m.\u001b[39mhead())\n",
      "File \u001b[0;32m/opt/conda/lib/python3.10/site-packages/pandas/util/_decorators.py:211\u001b[0m, in \u001b[0;36mdeprecate_kwarg.<locals>._deprecate_kwarg.<locals>.wrapper\u001b[0;34m(*args, **kwargs)\u001b[0m\n\u001b[1;32m    209\u001b[0m     \u001b[38;5;28;01melse\u001b[39;00m:\n\u001b[1;32m    210\u001b[0m         kwargs[new_arg_name] \u001b[38;5;241m=\u001b[39m new_arg_value\n\u001b[0;32m--> 211\u001b[0m \u001b[38;5;28;01mreturn\u001b[39;00m \u001b[43mfunc\u001b[49m\u001b[43m(\u001b[49m\u001b[38;5;241;43m*\u001b[39;49m\u001b[43margs\u001b[49m\u001b[43m,\u001b[49m\u001b[43m \u001b[49m\u001b[38;5;241;43m*\u001b[39;49m\u001b[38;5;241;43m*\u001b[39;49m\u001b[43mkwargs\u001b[49m\u001b[43m)\u001b[49m\n",
      "File \u001b[0;32m/opt/conda/lib/python3.10/site-packages/pandas/util/_decorators.py:331\u001b[0m, in \u001b[0;36mdeprecate_nonkeyword_arguments.<locals>.decorate.<locals>.wrapper\u001b[0;34m(*args, **kwargs)\u001b[0m\n\u001b[1;32m    325\u001b[0m \u001b[38;5;28;01mif\u001b[39;00m \u001b[38;5;28mlen\u001b[39m(args) \u001b[38;5;241m>\u001b[39m num_allow_args:\n\u001b[1;32m    326\u001b[0m     warnings\u001b[38;5;241m.\u001b[39mwarn(\n\u001b[1;32m    327\u001b[0m         msg\u001b[38;5;241m.\u001b[39mformat(arguments\u001b[38;5;241m=\u001b[39m_format_argument_list(allow_args)),\n\u001b[1;32m    328\u001b[0m         \u001b[38;5;167;01mFutureWarning\u001b[39;00m,\n\u001b[1;32m    329\u001b[0m         stacklevel\u001b[38;5;241m=\u001b[39mfind_stack_level(),\n\u001b[1;32m    330\u001b[0m     )\n\u001b[0;32m--> 331\u001b[0m \u001b[38;5;28;01mreturn\u001b[39;00m \u001b[43mfunc\u001b[49m\u001b[43m(\u001b[49m\u001b[38;5;241;43m*\u001b[39;49m\u001b[43margs\u001b[49m\u001b[43m,\u001b[49m\u001b[43m \u001b[49m\u001b[38;5;241;43m*\u001b[39;49m\u001b[38;5;241;43m*\u001b[39;49m\u001b[43mkwargs\u001b[49m\u001b[43m)\u001b[49m\n",
      "File \u001b[0;32m/opt/conda/lib/python3.10/site-packages/pandas/io/parsers/readers.py:950\u001b[0m, in \u001b[0;36mread_csv\u001b[0;34m(filepath_or_buffer, sep, delimiter, header, names, index_col, usecols, squeeze, prefix, mangle_dupe_cols, dtype, engine, converters, true_values, false_values, skipinitialspace, skiprows, skipfooter, nrows, na_values, keep_default_na, na_filter, verbose, skip_blank_lines, parse_dates, infer_datetime_format, keep_date_col, date_parser, dayfirst, cache_dates, iterator, chunksize, compression, thousands, decimal, lineterminator, quotechar, quoting, doublequote, escapechar, comment, encoding, encoding_errors, dialect, error_bad_lines, warn_bad_lines, on_bad_lines, delim_whitespace, low_memory, memory_map, float_precision, storage_options)\u001b[0m\n\u001b[1;32m    935\u001b[0m kwds_defaults \u001b[38;5;241m=\u001b[39m _refine_defaults_read(\n\u001b[1;32m    936\u001b[0m     dialect,\n\u001b[1;32m    937\u001b[0m     delimiter,\n\u001b[0;32m   (...)\u001b[0m\n\u001b[1;32m    946\u001b[0m     defaults\u001b[38;5;241m=\u001b[39m{\u001b[38;5;124m\"\u001b[39m\u001b[38;5;124mdelimiter\u001b[39m\u001b[38;5;124m\"\u001b[39m: \u001b[38;5;124m\"\u001b[39m\u001b[38;5;124m,\u001b[39m\u001b[38;5;124m\"\u001b[39m},\n\u001b[1;32m    947\u001b[0m )\n\u001b[1;32m    948\u001b[0m kwds\u001b[38;5;241m.\u001b[39mupdate(kwds_defaults)\n\u001b[0;32m--> 950\u001b[0m \u001b[38;5;28;01mreturn\u001b[39;00m \u001b[43m_read\u001b[49m\u001b[43m(\u001b[49m\u001b[43mfilepath_or_buffer\u001b[49m\u001b[43m,\u001b[49m\u001b[43m \u001b[49m\u001b[43mkwds\u001b[49m\u001b[43m)\u001b[49m\n",
      "File \u001b[0;32m/opt/conda/lib/python3.10/site-packages/pandas/io/parsers/readers.py:605\u001b[0m, in \u001b[0;36m_read\u001b[0;34m(filepath_or_buffer, kwds)\u001b[0m\n\u001b[1;32m    602\u001b[0m _validate_names(kwds\u001b[38;5;241m.\u001b[39mget(\u001b[38;5;124m\"\u001b[39m\u001b[38;5;124mnames\u001b[39m\u001b[38;5;124m\"\u001b[39m, \u001b[38;5;28;01mNone\u001b[39;00m))\n\u001b[1;32m    604\u001b[0m \u001b[38;5;66;03m# Create the parser.\u001b[39;00m\n\u001b[0;32m--> 605\u001b[0m parser \u001b[38;5;241m=\u001b[39m \u001b[43mTextFileReader\u001b[49m\u001b[43m(\u001b[49m\u001b[43mfilepath_or_buffer\u001b[49m\u001b[43m,\u001b[49m\u001b[43m \u001b[49m\u001b[38;5;241;43m*\u001b[39;49m\u001b[38;5;241;43m*\u001b[39;49m\u001b[43mkwds\u001b[49m\u001b[43m)\u001b[49m\n\u001b[1;32m    607\u001b[0m \u001b[38;5;28;01mif\u001b[39;00m chunksize \u001b[38;5;129;01mor\u001b[39;00m iterator:\n\u001b[1;32m    608\u001b[0m     \u001b[38;5;28;01mreturn\u001b[39;00m parser\n",
      "File \u001b[0;32m/opt/conda/lib/python3.10/site-packages/pandas/io/parsers/readers.py:1442\u001b[0m, in \u001b[0;36mTextFileReader.__init__\u001b[0;34m(self, f, engine, **kwds)\u001b[0m\n\u001b[1;32m   1439\u001b[0m     \u001b[38;5;28mself\u001b[39m\u001b[38;5;241m.\u001b[39moptions[\u001b[38;5;124m\"\u001b[39m\u001b[38;5;124mhas_index_names\u001b[39m\u001b[38;5;124m\"\u001b[39m] \u001b[38;5;241m=\u001b[39m kwds[\u001b[38;5;124m\"\u001b[39m\u001b[38;5;124mhas_index_names\u001b[39m\u001b[38;5;124m\"\u001b[39m]\n\u001b[1;32m   1441\u001b[0m \u001b[38;5;28mself\u001b[39m\u001b[38;5;241m.\u001b[39mhandles: IOHandles \u001b[38;5;241m|\u001b[39m \u001b[38;5;28;01mNone\u001b[39;00m \u001b[38;5;241m=\u001b[39m \u001b[38;5;28;01mNone\u001b[39;00m\n\u001b[0;32m-> 1442\u001b[0m \u001b[38;5;28mself\u001b[39m\u001b[38;5;241m.\u001b[39m_engine \u001b[38;5;241m=\u001b[39m \u001b[38;5;28;43mself\u001b[39;49m\u001b[38;5;241;43m.\u001b[39;49m\u001b[43m_make_engine\u001b[49m\u001b[43m(\u001b[49m\u001b[43mf\u001b[49m\u001b[43m,\u001b[49m\u001b[43m \u001b[49m\u001b[38;5;28;43mself\u001b[39;49m\u001b[38;5;241;43m.\u001b[39;49m\u001b[43mengine\u001b[49m\u001b[43m)\u001b[49m\n",
      "File \u001b[0;32m/opt/conda/lib/python3.10/site-packages/pandas/io/parsers/readers.py:1735\u001b[0m, in \u001b[0;36mTextFileReader._make_engine\u001b[0;34m(self, f, engine)\u001b[0m\n\u001b[1;32m   1733\u001b[0m     \u001b[38;5;28;01mif\u001b[39;00m \u001b[38;5;124m\"\u001b[39m\u001b[38;5;124mb\u001b[39m\u001b[38;5;124m\"\u001b[39m \u001b[38;5;129;01mnot\u001b[39;00m \u001b[38;5;129;01min\u001b[39;00m mode:\n\u001b[1;32m   1734\u001b[0m         mode \u001b[38;5;241m+\u001b[39m\u001b[38;5;241m=\u001b[39m \u001b[38;5;124m\"\u001b[39m\u001b[38;5;124mb\u001b[39m\u001b[38;5;124m\"\u001b[39m\n\u001b[0;32m-> 1735\u001b[0m \u001b[38;5;28mself\u001b[39m\u001b[38;5;241m.\u001b[39mhandles \u001b[38;5;241m=\u001b[39m \u001b[43mget_handle\u001b[49m\u001b[43m(\u001b[49m\n\u001b[1;32m   1736\u001b[0m \u001b[43m    \u001b[49m\u001b[43mf\u001b[49m\u001b[43m,\u001b[49m\n\u001b[1;32m   1737\u001b[0m \u001b[43m    \u001b[49m\u001b[43mmode\u001b[49m\u001b[43m,\u001b[49m\n\u001b[1;32m   1738\u001b[0m \u001b[43m    \u001b[49m\u001b[43mencoding\u001b[49m\u001b[38;5;241;43m=\u001b[39;49m\u001b[38;5;28;43mself\u001b[39;49m\u001b[38;5;241;43m.\u001b[39;49m\u001b[43moptions\u001b[49m\u001b[38;5;241;43m.\u001b[39;49m\u001b[43mget\u001b[49m\u001b[43m(\u001b[49m\u001b[38;5;124;43m\"\u001b[39;49m\u001b[38;5;124;43mencoding\u001b[39;49m\u001b[38;5;124;43m\"\u001b[39;49m\u001b[43m,\u001b[49m\u001b[43m \u001b[49m\u001b[38;5;28;43;01mNone\u001b[39;49;00m\u001b[43m)\u001b[49m\u001b[43m,\u001b[49m\n\u001b[1;32m   1739\u001b[0m \u001b[43m    \u001b[49m\u001b[43mcompression\u001b[49m\u001b[38;5;241;43m=\u001b[39;49m\u001b[38;5;28;43mself\u001b[39;49m\u001b[38;5;241;43m.\u001b[39;49m\u001b[43moptions\u001b[49m\u001b[38;5;241;43m.\u001b[39;49m\u001b[43mget\u001b[49m\u001b[43m(\u001b[49m\u001b[38;5;124;43m\"\u001b[39;49m\u001b[38;5;124;43mcompression\u001b[39;49m\u001b[38;5;124;43m\"\u001b[39;49m\u001b[43m,\u001b[49m\u001b[43m \u001b[49m\u001b[38;5;28;43;01mNone\u001b[39;49;00m\u001b[43m)\u001b[49m\u001b[43m,\u001b[49m\n\u001b[1;32m   1740\u001b[0m \u001b[43m    \u001b[49m\u001b[43mmemory_map\u001b[49m\u001b[38;5;241;43m=\u001b[39;49m\u001b[38;5;28;43mself\u001b[39;49m\u001b[38;5;241;43m.\u001b[39;49m\u001b[43moptions\u001b[49m\u001b[38;5;241;43m.\u001b[39;49m\u001b[43mget\u001b[49m\u001b[43m(\u001b[49m\u001b[38;5;124;43m\"\u001b[39;49m\u001b[38;5;124;43mmemory_map\u001b[39;49m\u001b[38;5;124;43m\"\u001b[39;49m\u001b[43m,\u001b[49m\u001b[43m \u001b[49m\u001b[38;5;28;43;01mFalse\u001b[39;49;00m\u001b[43m)\u001b[49m\u001b[43m,\u001b[49m\n\u001b[1;32m   1741\u001b[0m \u001b[43m    \u001b[49m\u001b[43mis_text\u001b[49m\u001b[38;5;241;43m=\u001b[39;49m\u001b[43mis_text\u001b[49m\u001b[43m,\u001b[49m\n\u001b[1;32m   1742\u001b[0m \u001b[43m    \u001b[49m\u001b[43merrors\u001b[49m\u001b[38;5;241;43m=\u001b[39;49m\u001b[38;5;28;43mself\u001b[39;49m\u001b[38;5;241;43m.\u001b[39;49m\u001b[43moptions\u001b[49m\u001b[38;5;241;43m.\u001b[39;49m\u001b[43mget\u001b[49m\u001b[43m(\u001b[49m\u001b[38;5;124;43m\"\u001b[39;49m\u001b[38;5;124;43mencoding_errors\u001b[39;49m\u001b[38;5;124;43m\"\u001b[39;49m\u001b[43m,\u001b[49m\u001b[43m \u001b[49m\u001b[38;5;124;43m\"\u001b[39;49m\u001b[38;5;124;43mstrict\u001b[39;49m\u001b[38;5;124;43m\"\u001b[39;49m\u001b[43m)\u001b[49m\u001b[43m,\u001b[49m\n\u001b[1;32m   1743\u001b[0m \u001b[43m    \u001b[49m\u001b[43mstorage_options\u001b[49m\u001b[38;5;241;43m=\u001b[39;49m\u001b[38;5;28;43mself\u001b[39;49m\u001b[38;5;241;43m.\u001b[39;49m\u001b[43moptions\u001b[49m\u001b[38;5;241;43m.\u001b[39;49m\u001b[43mget\u001b[49m\u001b[43m(\u001b[49m\u001b[38;5;124;43m\"\u001b[39;49m\u001b[38;5;124;43mstorage_options\u001b[39;49m\u001b[38;5;124;43m\"\u001b[39;49m\u001b[43m,\u001b[49m\u001b[43m \u001b[49m\u001b[38;5;28;43;01mNone\u001b[39;49;00m\u001b[43m)\u001b[49m\u001b[43m,\u001b[49m\n\u001b[1;32m   1744\u001b[0m \u001b[43m\u001b[49m\u001b[43m)\u001b[49m\n\u001b[1;32m   1745\u001b[0m \u001b[38;5;28;01massert\u001b[39;00m \u001b[38;5;28mself\u001b[39m\u001b[38;5;241m.\u001b[39mhandles \u001b[38;5;129;01mis\u001b[39;00m \u001b[38;5;129;01mnot\u001b[39;00m \u001b[38;5;28;01mNone\u001b[39;00m\n\u001b[1;32m   1746\u001b[0m f \u001b[38;5;241m=\u001b[39m \u001b[38;5;28mself\u001b[39m\u001b[38;5;241m.\u001b[39mhandles\u001b[38;5;241m.\u001b[39mhandle\n",
      "File \u001b[0;32m/opt/conda/lib/python3.10/site-packages/pandas/io/common.py:856\u001b[0m, in \u001b[0;36mget_handle\u001b[0;34m(path_or_buf, mode, encoding, compression, memory_map, is_text, errors, storage_options)\u001b[0m\n\u001b[1;32m    851\u001b[0m \u001b[38;5;28;01melif\u001b[39;00m \u001b[38;5;28misinstance\u001b[39m(handle, \u001b[38;5;28mstr\u001b[39m):\n\u001b[1;32m    852\u001b[0m     \u001b[38;5;66;03m# Check whether the filename is to be opened in binary mode.\u001b[39;00m\n\u001b[1;32m    853\u001b[0m     \u001b[38;5;66;03m# Binary mode does not support 'encoding' and 'newline'.\u001b[39;00m\n\u001b[1;32m    854\u001b[0m     \u001b[38;5;28;01mif\u001b[39;00m ioargs\u001b[38;5;241m.\u001b[39mencoding \u001b[38;5;129;01mand\u001b[39;00m \u001b[38;5;124m\"\u001b[39m\u001b[38;5;124mb\u001b[39m\u001b[38;5;124m\"\u001b[39m \u001b[38;5;129;01mnot\u001b[39;00m \u001b[38;5;129;01min\u001b[39;00m ioargs\u001b[38;5;241m.\u001b[39mmode:\n\u001b[1;32m    855\u001b[0m         \u001b[38;5;66;03m# Encoding\u001b[39;00m\n\u001b[0;32m--> 856\u001b[0m         handle \u001b[38;5;241m=\u001b[39m \u001b[38;5;28;43mopen\u001b[39;49m\u001b[43m(\u001b[49m\n\u001b[1;32m    857\u001b[0m \u001b[43m            \u001b[49m\u001b[43mhandle\u001b[49m\u001b[43m,\u001b[49m\n\u001b[1;32m    858\u001b[0m \u001b[43m            \u001b[49m\u001b[43mioargs\u001b[49m\u001b[38;5;241;43m.\u001b[39;49m\u001b[43mmode\u001b[49m\u001b[43m,\u001b[49m\n\u001b[1;32m    859\u001b[0m \u001b[43m            \u001b[49m\u001b[43mencoding\u001b[49m\u001b[38;5;241;43m=\u001b[39;49m\u001b[43mioargs\u001b[49m\u001b[38;5;241;43m.\u001b[39;49m\u001b[43mencoding\u001b[49m\u001b[43m,\u001b[49m\n\u001b[1;32m    860\u001b[0m \u001b[43m            \u001b[49m\u001b[43merrors\u001b[49m\u001b[38;5;241;43m=\u001b[39;49m\u001b[43merrors\u001b[49m\u001b[43m,\u001b[49m\n\u001b[1;32m    861\u001b[0m \u001b[43m            \u001b[49m\u001b[43mnewline\u001b[49m\u001b[38;5;241;43m=\u001b[39;49m\u001b[38;5;124;43m\"\u001b[39;49m\u001b[38;5;124;43m\"\u001b[39;49m\u001b[43m,\u001b[49m\n\u001b[1;32m    862\u001b[0m \u001b[43m        \u001b[49m\u001b[43m)\u001b[49m\n\u001b[1;32m    863\u001b[0m     \u001b[38;5;28;01melse\u001b[39;00m:\n\u001b[1;32m    864\u001b[0m         \u001b[38;5;66;03m# Binary mode\u001b[39;00m\n\u001b[1;32m    865\u001b[0m         handle \u001b[38;5;241m=\u001b[39m \u001b[38;5;28mopen\u001b[39m(handle, ioargs\u001b[38;5;241m.\u001b[39mmode)\n",
      "\u001b[0;31mFileNotFoundError\u001b[0m: [Errno 2] No such file or directory: 'wine_quality_dataset.csv'"
     ]
    }
   ],
   "source": [
    "import pandas as pd\n",
    "import numpy as np\n",
    "import seaborn as sns\n",
    "import matplotlib.pyplot as plt\n",
    "\n",
    "# Load the wine quality dataset\n",
    "wine_df = pd.read_csv('wine_quality_dataset.csv')\n",
    "\n",
    "# Display the first few rows of the dataset\n",
    "print(wine_df.head())\n",
    "\n",
    "# Visualize the distribution of each feature\n",
    "fig, axes = plt.subplots(nrows=4, ncols=3, figsize=(15, 15))\n",
    "plt.subplots_adjust(hspace=0.5)\n",
    "\n",
    "for i, column in enumerate(wine_df.columns):\n",
    "    sns.histplot(wine_df[column], ax=axes[i//3, i%3])\n",
    "    axes[i//3, i%3].set_title(column)\n",
    "\n",
    "plt.show()"
   ]
  },
  {
   "cell_type": "code",
   "execution_count": null,
   "id": "16257775-e48c-4c19-9898-21245a6ad4b5",
   "metadata": {},
   "outputs": [],
   "source": []
  }
 ],
 "metadata": {
  "kernelspec": {
   "display_name": "Python 3 (ipykernel)",
   "language": "python",
   "name": "python3"
  },
  "language_info": {
   "codemirror_mode": {
    "name": "ipython",
    "version": 3
   },
   "file_extension": ".py",
   "mimetype": "text/x-python",
   "name": "python",
   "nbconvert_exporter": "python",
   "pygments_lexer": "ipython3",
   "version": "3.10.8"
  }
 },
 "nbformat": 4,
 "nbformat_minor": 5
}
